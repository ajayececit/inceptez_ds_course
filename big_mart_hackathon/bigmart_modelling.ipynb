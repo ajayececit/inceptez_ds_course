{
 "cells": [
  {
   "cell_type": "code",
   "execution_count": 1,
   "id": "5cdfab71",
   "metadata": {},
   "outputs": [],
   "source": [
    "from sklearn.linear_model import LinearRegression\n",
    "from sklearn.metrics import mean_absolute_error, r2_score, mean_squared_error\n",
    "import pandas as pd \n",
    "import numpy as np"
   ]
  },
  {
   "cell_type": "code",
   "execution_count": 2,
   "id": "ff01afcb",
   "metadata": {},
   "outputs": [],
   "source": [
    "df_processed_data = pd.read_excel(\"Bigmart_Pre_processed_data_FINAL.xlsx\")"
   ]
  },
  {
   "cell_type": "code",
   "execution_count": 4,
   "id": "f56d366b",
   "metadata": {},
   "outputs": [],
   "source": [
    "train_preprocessed = df_processed_data.loc[df_processed_data['source']=='train']\n",
    "test_preprocessed = df_processed_data.loc[df_processed_data['source']=='test']"
   ]
  },
  {
   "cell_type": "code",
   "execution_count": 9,
   "id": "a5499321",
   "metadata": {},
   "outputs": [
    {
     "data": {
      "text/plain": [
       "(8523, 36)"
      ]
     },
     "execution_count": 9,
     "metadata": {},
     "output_type": "execute_result"
    }
   ],
   "source": [
    "train_preprocessed.shape\n"
   ]
  },
  {
   "cell_type": "code",
   "execution_count": 8,
   "id": "0efc8a4f",
   "metadata": {},
   "outputs": [
    {
     "data": {
      "text/plain": [
       "(5681, 36)"
      ]
     },
     "execution_count": 8,
     "metadata": {},
     "output_type": "execute_result"
    }
   ],
   "source": [
    "test_preprocessed.shape"
   ]
  },
  {
   "cell_type": "code",
   "execution_count": 10,
   "id": "e8edd035",
   "metadata": {},
   "outputs": [],
   "source": [
    "del train_preprocessed['source']\n",
    "del test_preprocessed['source']\n"
   ]
  },
  {
   "cell_type": "code",
   "execution_count": 11,
   "id": "a2e929be",
   "metadata": {},
   "outputs": [],
   "source": [
    "X_train = train_preprocessed.drop(columns = ['Outlet_Identifier','Item_Outlet_Sales','Item_Identifier'])\n",
    "X_test = test_preprocessed.drop(columns = ['Outlet_Identifier','Item_Outlet_Sales','Item_Identifier'])\n",
    "# fetch the target prediction\n",
    "train_y = train_preprocessed['Item_Outlet_Sales']\n",
    "test_y = test_preprocessed['Item_Outlet_Sales']"
   ]
  },
  {
   "cell_type": "code",
   "execution_count": 12,
   "id": "f652ebf8",
   "metadata": {},
   "outputs": [
    {
     "name": "stdout",
     "output_type": "stream",
     "text": [
      "MAE:  836.0540595865735\n",
      "MSE:  1273442.6123655152\n",
      "RMSE:  1128.4691455088682\n",
      "R-Squared:  0.5626612621848155\n"
     ]
    }
   ],
   "source": [
    "# calculate the MAE, MSE, RMSE & R-Squared value using Linear Regression method\n",
    "linear = LinearRegression()\n",
    "linear.fit(X_train,train_y)\n",
    "pred_train = linear.predict(X_train)\n",
    "pred_test = linear.predict(X_test)\n",
    "pred_test = abs(pred_test)\n",
    "print(\"MAE: \",mean_absolute_error(train_y,pred_train))\n",
    "print(\"MSE: \",mean_squared_error(train_y,pred_train))\n",
    "print(\"RMSE: \",np.sqrt(mean_squared_error(train_y,pred_train)))\n",
    "print(\"R-Squared: \",r2_score(train_y,pred_train))"
   ]
  },
  {
   "cell_type": "code",
   "execution_count": 13,
   "id": "e3fb08d3",
   "metadata": {},
   "outputs": [],
   "source": [
    "sample_submission = pd.read_csv('sample_submission_8RXa3c6.csv')"
   ]
  },
  {
   "cell_type": "code",
   "execution_count": 14,
   "id": "dd776ab5",
   "metadata": {},
   "outputs": [],
   "source": [
    "sample_submission['Item_Outlet_Sales'] = pred_test"
   ]
  },
  {
   "cell_type": "code",
   "execution_count": 15,
   "id": "81badfe1",
   "metadata": {},
   "outputs": [],
   "source": [
    "sample_submission.to_csv(\"submission_ajay.csv\",index = False)"
   ]
  },
  {
   "cell_type": "code",
   "execution_count": null,
   "id": "c8f599b6",
   "metadata": {},
   "outputs": [],
   "source": []
  }
 ],
 "metadata": {
  "kernelspec": {
   "display_name": "Python 3 (ipykernel)",
   "language": "python",
   "name": "python3"
  },
  "language_info": {
   "codemirror_mode": {
    "name": "ipython",
    "version": 3
   },
   "file_extension": ".py",
   "mimetype": "text/x-python",
   "name": "python",
   "nbconvert_exporter": "python",
   "pygments_lexer": "ipython3",
   "version": "3.9.7"
  }
 },
 "nbformat": 4,
 "nbformat_minor": 5
}
