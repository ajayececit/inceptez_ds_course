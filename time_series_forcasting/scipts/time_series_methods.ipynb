{
 "cells": [
  {
   "cell_type": "markdown",
   "id": "fb5ea16f",
   "metadata": {},
   "source": [
    "# Time Series Analysis"
   ]
  },
  {
   "cell_type": "code",
   "execution_count": 26,
   "id": "76f67f71",
   "metadata": {},
   "outputs": [],
   "source": [
    "import pandas as pd\n",
    "import numpy as np\n",
    "import os\n",
    "import matplotlib.pyplot as plt\n",
    "from statsmodels.tsa.arima_model import ARIMA\n",
    "\n",
    "%matplotlib inline"
   ]
  },
  {
   "cell_type": "code",
   "execution_count": 27,
   "id": "a9f3ea1b",
   "metadata": {},
   "outputs": [],
   "source": [
    "# function to get data\n",
    "def get_dataframe(path):\n",
    "   \n",
    "    if not path:\n",
    "        return pd.DataFrame()\n",
    "    df = pd.DataFrame()\n",
    "    \n",
    "    try:\n",
    "        filename, file_extension = os.path.splitext(path)\n",
    "        print(filename)\n",
    "        if file_extension == \".json\":\n",
    "            df = pd.read_json(path)\n",
    "        elif file_extension == \".csv\":\n",
    "            df = pd.read_csv(path)\n",
    "\n",
    "        return df\n",
    "    except Exception as e:\n",
    "        print(e)\n",
    "        return pd.DataFrame()"
   ]
  },
  {
   "cell_type": "code",
   "execution_count": 28,
   "id": "7b1c8d4a",
   "metadata": {},
   "outputs": [
    {
     "name": "stdout",
     "output_type": "stream",
     "text": [
      "../data/FB\n",
      "../data/TSLA\n"
     ]
    }
   ],
   "source": [
    "facebook_df = get_dataframe(\"../data/FB.csv\")\n",
    "tesla_df = get_dataframe(\"../data/TSLA.csv\")"
   ]
  },
  {
   "cell_type": "code",
   "execution_count": 31,
   "id": "c5e988b4",
   "metadata": {},
   "outputs": [],
   "source": [
    "facebook_df = facebook_df.loc[:, [\"Date\", \"Close\"]]\n",
    "tesla_df = tesla_df.loc[:, [\"Date\", \"Close\"]]"
   ]
  },
  {
   "cell_type": "code",
   "execution_count": null,
   "id": "7cd73ae7",
   "metadata": {},
   "outputs": [],
   "source": []
  },
  {
   "cell_type": "code",
   "execution_count": null,
   "id": "1dfc9dc1",
   "metadata": {},
   "outputs": [],
   "source": []
  }
 ],
 "metadata": {
  "kernelspec": {
   "display_name": "Python 3 (ipykernel)",
   "language": "python",
   "name": "python3"
  },
  "language_info": {
   "codemirror_mode": {
    "name": "ipython",
    "version": 3
   },
   "file_extension": ".py",
   "mimetype": "text/x-python",
   "name": "python",
   "nbconvert_exporter": "python",
   "pygments_lexer": "ipython3",
   "version": "3.9.7"
  }
 },
 "nbformat": 4,
 "nbformat_minor": 5
}
