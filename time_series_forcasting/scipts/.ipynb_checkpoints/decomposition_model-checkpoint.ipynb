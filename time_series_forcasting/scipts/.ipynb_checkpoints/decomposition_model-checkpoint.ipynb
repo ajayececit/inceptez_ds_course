{
 "cells": [
  {
   "cell_type": "code",
   "execution_count": 294,
   "id": "fd9bc530",
   "metadata": {},
   "outputs": [],
   "source": [
    "import pandas as pd\n",
    "import numpy as np\n",
    "import os\n",
    "import matplotlib.pyplot as plt\n",
    "from statsmodels.tsa.arima_model import ARIMA\n",
    "from sklearn import linear_model\n",
    "\n",
    "import warnings\n",
    "warnings.filterwarnings('ignore')\n",
    "\n",
    "%matplotlib inline"
   ]
  },
  {
   "cell_type": "code",
   "execution_count": 295,
   "id": "e36161f2",
   "metadata": {},
   "outputs": [],
   "source": [
    "# function to get data\n",
    "def get_dataframe(path):\n",
    "   \n",
    "    if not path:\n",
    "        return pd.DataFrame()\n",
    "    df = pd.DataFrame()\n",
    "    \n",
    "    try:\n",
    "        filename, file_extension = os.path.splitext(path)\n",
    "        print(filename)\n",
    "        if file_extension == \".json\":\n",
    "            df = pd.read_json(path)\n",
    "        elif file_extension == \".csv\":\n",
    "            df = pd.read_csv(path)\n",
    "\n",
    "        return df\n",
    "    except Exception as e:\n",
    "        print(e)\n",
    "        return pd.DataFrame()"
   ]
  },
  {
   "cell_type": "code",
   "execution_count": 296,
   "id": "e6445f37",
   "metadata": {},
   "outputs": [
    {
     "name": "stdout",
     "output_type": "stream",
     "text": [
      "../data/Sales\n"
     ]
    }
   ],
   "source": [
    "data = get_dataframe(\"../data/Sales.csv\")"
   ]
  },
  {
   "cell_type": "code",
   "execution_count": 297,
   "id": "663b8b08",
   "metadata": {},
   "outputs": [
    {
     "data": {
      "text/html": [
       "<div>\n",
       "<style scoped>\n",
       "    .dataframe tbody tr th:only-of-type {\n",
       "        vertical-align: middle;\n",
       "    }\n",
       "\n",
       "    .dataframe tbody tr th {\n",
       "        vertical-align: top;\n",
       "    }\n",
       "\n",
       "    .dataframe thead th {\n",
       "        text-align: right;\n",
       "    }\n",
       "</style>\n",
       "<table border=\"1\" class=\"dataframe\">\n",
       "  <thead>\n",
       "    <tr style=\"text-align: right;\">\n",
       "      <th></th>\n",
       "      <th>Date</th>\n",
       "      <th>Sales</th>\n",
       "    </tr>\n",
       "  </thead>\n",
       "  <tbody>\n",
       "    <tr>\n",
       "      <th>0</th>\n",
       "      <td>2013-01</td>\n",
       "      <td>2815</td>\n",
       "    </tr>\n",
       "    <tr>\n",
       "      <th>1</th>\n",
       "      <td>2013-02</td>\n",
       "      <td>2672</td>\n",
       "    </tr>\n",
       "    <tr>\n",
       "      <th>2</th>\n",
       "      <td>2013-03</td>\n",
       "      <td>2755</td>\n",
       "    </tr>\n",
       "    <tr>\n",
       "      <th>3</th>\n",
       "      <td>2013-04</td>\n",
       "      <td>2721</td>\n",
       "    </tr>\n",
       "    <tr>\n",
       "      <th>4</th>\n",
       "      <td>2013-05</td>\n",
       "      <td>2946</td>\n",
       "    </tr>\n",
       "  </tbody>\n",
       "</table>\n",
       "</div>"
      ],
      "text/plain": [
       "      Date  Sales\n",
       "0  2013-01   2815\n",
       "1  2013-02   2672\n",
       "2  2013-03   2755\n",
       "3  2013-04   2721\n",
       "4  2013-05   2946"
      ]
     },
     "execution_count": 297,
     "metadata": {},
     "output_type": "execute_result"
    }
   ],
   "source": [
    "data.head()\n"
   ]
  },
  {
   "cell_type": "code",
   "execution_count": 298,
   "id": "44b00e88",
   "metadata": {},
   "outputs": [],
   "source": [
    "data[\"Date\"] = pd.to_datetime(data[\"Date\"])\n",
    "data = data.sort_values([\"Date\"])"
   ]
  },
  {
   "cell_type": "code",
   "execution_count": 299,
   "id": "1bba652d",
   "metadata": {},
   "outputs": [],
   "source": [
    "data[\"Quarter\"] = data[\"Date\"].dt.quarter\n",
    "data[\"Year\"] = data[\"Date\"].dt.year\n",
    "data[\"Month\"] = data[\"Date\"].dt.month"
   ]
  },
  {
   "cell_type": "code",
   "execution_count": 300,
   "id": "34bbab61",
   "metadata": {},
   "outputs": [
    {
     "data": {
      "text/html": [
       "<div>\n",
       "<style scoped>\n",
       "    .dataframe tbody tr th:only-of-type {\n",
       "        vertical-align: middle;\n",
       "    }\n",
       "\n",
       "    .dataframe tbody tr th {\n",
       "        vertical-align: top;\n",
       "    }\n",
       "\n",
       "    .dataframe thead th {\n",
       "        text-align: right;\n",
       "    }\n",
       "</style>\n",
       "<table border=\"1\" class=\"dataframe\">\n",
       "  <thead>\n",
       "    <tr style=\"text-align: right;\">\n",
       "      <th></th>\n",
       "      <th>Date</th>\n",
       "      <th>Sales</th>\n",
       "      <th>Quarter</th>\n",
       "      <th>Year</th>\n",
       "      <th>Month</th>\n",
       "    </tr>\n",
       "  </thead>\n",
       "  <tbody>\n",
       "    <tr>\n",
       "      <th>0</th>\n",
       "      <td>2013-01-01</td>\n",
       "      <td>2815</td>\n",
       "      <td>1</td>\n",
       "      <td>2013</td>\n",
       "      <td>1</td>\n",
       "    </tr>\n",
       "    <tr>\n",
       "      <th>1</th>\n",
       "      <td>2013-02-01</td>\n",
       "      <td>2672</td>\n",
       "      <td>1</td>\n",
       "      <td>2013</td>\n",
       "      <td>2</td>\n",
       "    </tr>\n",
       "    <tr>\n",
       "      <th>2</th>\n",
       "      <td>2013-03-01</td>\n",
       "      <td>2755</td>\n",
       "      <td>1</td>\n",
       "      <td>2013</td>\n",
       "      <td>3</td>\n",
       "    </tr>\n",
       "    <tr>\n",
       "      <th>3</th>\n",
       "      <td>2013-04-01</td>\n",
       "      <td>2721</td>\n",
       "      <td>2</td>\n",
       "      <td>2013</td>\n",
       "      <td>4</td>\n",
       "    </tr>\n",
       "    <tr>\n",
       "      <th>4</th>\n",
       "      <td>2013-05-01</td>\n",
       "      <td>2946</td>\n",
       "      <td>2</td>\n",
       "      <td>2013</td>\n",
       "      <td>5</td>\n",
       "    </tr>\n",
       "  </tbody>\n",
       "</table>\n",
       "</div>"
      ],
      "text/plain": [
       "        Date  Sales  Quarter  Year  Month\n",
       "0 2013-01-01   2815        1  2013      1\n",
       "1 2013-02-01   2672        1  2013      2\n",
       "2 2013-03-01   2755        1  2013      3\n",
       "3 2013-04-01   2721        2  2013      4\n",
       "4 2013-05-01   2946        2  2013      5"
      ]
     },
     "execution_count": 300,
     "metadata": {},
     "output_type": "execute_result"
    }
   ],
   "source": [
    "data.head()"
   ]
  },
  {
   "cell_type": "code",
   "execution_count": 301,
   "id": "0c76c23e",
   "metadata": {},
   "outputs": [
    {
     "data": {
      "text/plain": [
       "0     2815\n",
       "12    2541\n",
       "24    3113\n",
       "36    5375\n",
       "48    3633\n",
       "60    4016\n",
       "72    2639\n",
       "84    3934\n",
       "96    4348\n",
       "Name: Sales, dtype: int64"
      ]
     },
     "execution_count": 301,
     "metadata": {},
     "output_type": "execute_result"
    }
   ],
   "source": [
    "data.loc[data[\"Month\"] == 1][\"Sales\"] "
   ]
  },
  {
   "cell_type": "code",
   "execution_count": 302,
   "id": "db08e98e",
   "metadata": {},
   "outputs": [],
   "source": [
    "train = data.loc[data[\"Year\"] <= 2020]\n",
    "test = data.loc[data[\"Year\"] > 2020]"
   ]
  },
  {
   "cell_type": "code",
   "execution_count": 303,
   "id": "8f824748",
   "metadata": {},
   "outputs": [],
   "source": [
    "train[\"sum_month\"] = train.groupby([\"Month\"])[\"Sales\"].transform(sum)"
   ]
  },
  {
   "cell_type": "code",
   "execution_count": 304,
   "id": "5b3eb60d",
   "metadata": {},
   "outputs": [
    {
     "name": "stdout",
     "output_type": "stream",
     "text": [
      "461126\n"
     ]
    }
   ],
   "source": [
    "total_sale = train[\"Sales\"].sum()\n",
    "print(total_sale)\n",
    "train[\"S.I\"] = train[\"sum_month\"].apply(lambda x : ((x * 12) / total_sale))"
   ]
  },
  {
   "cell_type": "code",
   "execution_count": 305,
   "id": "ba0ddc91",
   "metadata": {},
   "outputs": [
    {
     "data": {
      "text/plain": [
       "0.730369    8\n",
       "0.664920    8\n",
       "0.777341    8\n",
       "0.802479    8\n",
       "0.851767    8\n",
       "0.860875    8\n",
       "0.743510    8\n",
       "0.367657    8\n",
       "0.942718    8\n",
       "1.213022    8\n",
       "1.792586    8\n",
       "2.252755    8\n",
       "Name: S.I, dtype: int64"
      ]
     },
     "execution_count": 305,
     "metadata": {},
     "output_type": "execute_result"
    }
   ],
   "source": [
    "train[\"S.I\"].value_counts()"
   ]
  },
  {
   "cell_type": "code",
   "execution_count": 306,
   "id": "2ccb2210",
   "metadata": {},
   "outputs": [],
   "source": [
    "train = train.sort_values([\"Date\"])\n",
    "train.index = range(len(train))\n",
    "train[\"ID\"] = range(1, len(train) + 1)"
   ]
  },
  {
   "cell_type": "code",
   "execution_count": 307,
   "id": "ab4df38c",
   "metadata": {},
   "outputs": [],
   "source": [
    "linearmodel = linear_model.LinearRegression()\n",
    "x = np.array(train[[\"ID\"]])\n",
    "y = np.array(train[\"Sales\"]).reshape(-1, 1)\n"
   ]
  },
  {
   "cell_type": "code",
   "execution_count": 308,
   "id": "890f20af",
   "metadata": {},
   "outputs": [],
   "source": [
    "model = linearmodel.fit(x, y)"
   ]
  },
  {
   "cell_type": "code",
   "execution_count": 309,
   "id": "72e68d5a",
   "metadata": {},
   "outputs": [
    {
     "data": {
      "text/html": [
       "<div>\n",
       "<style scoped>\n",
       "    .dataframe tbody tr th:only-of-type {\n",
       "        vertical-align: middle;\n",
       "    }\n",
       "\n",
       "    .dataframe tbody tr th {\n",
       "        vertical-align: top;\n",
       "    }\n",
       "\n",
       "    .dataframe thead th {\n",
       "        text-align: right;\n",
       "    }\n",
       "</style>\n",
       "<table border=\"1\" class=\"dataframe\">\n",
       "  <thead>\n",
       "    <tr style=\"text-align: right;\">\n",
       "      <th></th>\n",
       "      <th>Date</th>\n",
       "      <th>Sales</th>\n",
       "      <th>Quarter</th>\n",
       "      <th>Year</th>\n",
       "      <th>Month</th>\n",
       "    </tr>\n",
       "  </thead>\n",
       "  <tbody>\n",
       "    <tr>\n",
       "      <th>96</th>\n",
       "      <td>2021-01-01</td>\n",
       "      <td>4348</td>\n",
       "      <td>1</td>\n",
       "      <td>2021</td>\n",
       "      <td>1</td>\n",
       "    </tr>\n",
       "    <tr>\n",
       "      <th>97</th>\n",
       "      <td>2021-02-01</td>\n",
       "      <td>3564</td>\n",
       "      <td>1</td>\n",
       "      <td>2021</td>\n",
       "      <td>2</td>\n",
       "    </tr>\n",
       "    <tr>\n",
       "      <th>98</th>\n",
       "      <td>2021-03-01</td>\n",
       "      <td>4577</td>\n",
       "      <td>1</td>\n",
       "      <td>2021</td>\n",
       "      <td>3</td>\n",
       "    </tr>\n",
       "    <tr>\n",
       "      <th>99</th>\n",
       "      <td>2021-04-01</td>\n",
       "      <td>4788</td>\n",
       "      <td>2</td>\n",
       "      <td>2021</td>\n",
       "      <td>4</td>\n",
       "    </tr>\n",
       "    <tr>\n",
       "      <th>100</th>\n",
       "      <td>2021-05-01</td>\n",
       "      <td>4618</td>\n",
       "      <td>2</td>\n",
       "      <td>2021</td>\n",
       "      <td>5</td>\n",
       "    </tr>\n",
       "    <tr>\n",
       "      <th>101</th>\n",
       "      <td>2021-06-01</td>\n",
       "      <td>5312</td>\n",
       "      <td>2</td>\n",
       "      <td>2021</td>\n",
       "      <td>6</td>\n",
       "    </tr>\n",
       "    <tr>\n",
       "      <th>102</th>\n",
       "      <td>2021-07-01</td>\n",
       "      <td>4298</td>\n",
       "      <td>3</td>\n",
       "      <td>2021</td>\n",
       "      <td>7</td>\n",
       "    </tr>\n",
       "    <tr>\n",
       "      <th>103</th>\n",
       "      <td>2021-08-01</td>\n",
       "      <td>1413</td>\n",
       "      <td>3</td>\n",
       "      <td>2021</td>\n",
       "      <td>8</td>\n",
       "    </tr>\n",
       "    <tr>\n",
       "      <th>104</th>\n",
       "      <td>2021-09-01</td>\n",
       "      <td>5877</td>\n",
       "      <td>3</td>\n",
       "      <td>2021</td>\n",
       "      <td>9</td>\n",
       "    </tr>\n",
       "  </tbody>\n",
       "</table>\n",
       "</div>"
      ],
      "text/plain": [
       "          Date  Sales  Quarter  Year  Month\n",
       "96  2021-01-01   4348        1  2021      1\n",
       "97  2021-02-01   3564        1  2021      2\n",
       "98  2021-03-01   4577        1  2021      3\n",
       "99  2021-04-01   4788        2  2021      4\n",
       "100 2021-05-01   4618        2  2021      5\n",
       "101 2021-06-01   5312        2  2021      6\n",
       "102 2021-07-01   4298        3  2021      7\n",
       "103 2021-08-01   1413        3  2021      8\n",
       "104 2021-09-01   5877        3  2021      9"
      ]
     },
     "execution_count": 309,
     "metadata": {},
     "output_type": "execute_result"
    }
   ],
   "source": [
    "test\n"
   ]
  },
  {
   "cell_type": "code",
   "execution_count": 310,
   "id": "a563edd2",
   "metadata": {},
   "outputs": [],
   "source": [
    "# append_test = {\"Date\": pd.to_datetime(\"2021-10-01\"), \"Sales\" : test[\"Sales\"].mean()}\n",
    "# test = test.append(append_test, ignore_index = True)\n",
    "# append_test = {\"Date\": pd.to_datetime(\"2021-11-01\"), \"Sales\" : test[\"Sales\"].mean()}\n",
    "# test = test.append(append_test, ignore_index = True)\n",
    "# append_test = {\"Date\": pd.to_datetime(\"2021-12-01\"), \"Sales\" : test[\"Sales\"].mean()}\n",
    "# test = test.append(append_test, ignore_index = True)\n",
    "# test.tail()"
   ]
  },
  {
   "cell_type": "code",
   "execution_count": 311,
   "id": "311d88f7",
   "metadata": {},
   "outputs": [],
   "source": [
    "test[\"ID\"] = range(len(test))\n",
    "test[\"ID\"] = test[\"ID\"] + max(train[\"ID\"])\n"
   ]
  },
  {
   "cell_type": "code",
   "execution_count": 312,
   "id": "534c71f0",
   "metadata": {},
   "outputs": [
    {
     "data": {
      "text/plain": [
       "96      96\n",
       "97      97\n",
       "98      98\n",
       "99      99\n",
       "100    100\n",
       "101    101\n",
       "102    102\n",
       "103    103\n",
       "104    104\n",
       "Name: ID, dtype: int64"
      ]
     },
     "execution_count": 312,
     "metadata": {},
     "output_type": "execute_result"
    }
   ],
   "source": [
    "test[\"ID\"]"
   ]
  },
  {
   "cell_type": "code",
   "execution_count": 313,
   "id": "a37b694a",
   "metadata": {},
   "outputs": [],
   "source": [
    "x_test = np.array(test[[\"ID\"]])\n",
    "\n",
    "x_test = np.append(x_test, [[105], [106], [107]]).reshape(-1, 1)\n",
    "y_test = model.predict(x_test)"
   ]
  },
  {
   "cell_type": "code",
   "execution_count": 314,
   "id": "15c914a1",
   "metadata": {},
   "outputs": [
    {
     "data": {
      "text/plain": [
       "array([[6338.50150344],\n",
       "       [6370.81951754],\n",
       "       [6403.13753165],\n",
       "       [6435.45554576],\n",
       "       [6467.77355987],\n",
       "       [6500.09157397],\n",
       "       [6532.40958808],\n",
       "       [6564.72760219],\n",
       "       [6597.0456163 ],\n",
       "       [6629.3636304 ],\n",
       "       [6661.68164451],\n",
       "       [6693.99965862]])"
      ]
     },
     "execution_count": 314,
     "metadata": {},
     "output_type": "execute_result"
    }
   ],
   "source": [
    "y_test"
   ]
  },
  {
   "cell_type": "code",
   "execution_count": 315,
   "id": "6b43f17c",
   "metadata": {},
   "outputs": [
    {
     "data": {
      "text/plain": [
       "0     0.730369\n",
       "1     0.664920\n",
       "2     0.777341\n",
       "3     0.802479\n",
       "4     0.851767\n",
       "5     0.860875\n",
       "6     0.743510\n",
       "7     0.367657\n",
       "8     0.942718\n",
       "9     1.213022\n",
       "10    1.792586\n",
       "11    2.252755\n",
       "Name: S.I, dtype: float64"
      ]
     },
     "execution_count": 315,
     "metadata": {},
     "output_type": "execute_result"
    }
   ],
   "source": [
    "train.iloc[0:12][\"S.I\"]"
   ]
  },
  {
   "cell_type": "code",
   "execution_count": 319,
   "id": "578c566b",
   "metadata": {},
   "outputs": [
    {
     "ename": "ValueError",
     "evalue": "Length of values (12) does not match length of index (9)",
     "output_type": "error",
     "traceback": [
      "\u001b[1;31m---------------------------------------------------------------------------\u001b[0m",
      "\u001b[1;31mValueError\u001b[0m                                Traceback (most recent call last)",
      "\u001b[1;32mC:\\Users\\AJAY_T~1\\AppData\\Local\\Temp/ipykernel_36240/1728629972.py\u001b[0m in \u001b[0;36m<module>\u001b[1;34m\u001b[0m\n\u001b[1;32m----> 1\u001b[1;33m \u001b[0mtest\u001b[0m\u001b[1;33m[\u001b[0m\u001b[1;34m\"Trend\"\u001b[0m\u001b[1;33m]\u001b[0m \u001b[1;33m=\u001b[0m \u001b[0my_test\u001b[0m\u001b[1;33m\u001b[0m\u001b[1;33m\u001b[0m\u001b[0m\n\u001b[0m\u001b[0;32m      2\u001b[0m \u001b[1;31m# print(len(y_test))\u001b[0m\u001b[1;33m\u001b[0m\u001b[1;33m\u001b[0m\u001b[0m\n\u001b[0;32m      3\u001b[0m \u001b[0mtest\u001b[0m\u001b[1;33m[\u001b[0m\u001b[1;34m\"Predection\"\u001b[0m\u001b[1;33m]\u001b[0m \u001b[1;33m=\u001b[0m \u001b[0my_test\u001b[0m \u001b[1;33m*\u001b[0m \u001b[0mnp\u001b[0m\u001b[1;33m.\u001b[0m\u001b[0marray\u001b[0m\u001b[1;33m(\u001b[0m\u001b[0mtrain\u001b[0m\u001b[1;33m.\u001b[0m\u001b[0miloc\u001b[0m\u001b[1;33m[\u001b[0m\u001b[1;36m2\u001b[0m\u001b[1;33m:\u001b[0m\u001b[0mlen\u001b[0m\u001b[1;33m(\u001b[0m\u001b[0my_test\u001b[0m\u001b[1;33m)\u001b[0m\u001b[1;33m]\u001b[0m\u001b[1;33m[\u001b[0m\u001b[1;34m\"S.I\"\u001b[0m\u001b[1;33m]\u001b[0m\u001b[1;33m)\u001b[0m\u001b[1;33m.\u001b[0m\u001b[0mreshape\u001b[0m\u001b[1;33m(\u001b[0m\u001b[1;33m-\u001b[0m\u001b[1;36m1\u001b[0m\u001b[1;33m,\u001b[0m \u001b[1;36m1\u001b[0m\u001b[1;33m)\u001b[0m\u001b[1;33m\u001b[0m\u001b[1;33m\u001b[0m\u001b[0m\n",
      "\u001b[1;32m~\\AppData\\Local\\Programs\\Python\\Python39\\lib\\site-packages\\pandas\\core\\frame.py\u001b[0m in \u001b[0;36m__setitem__\u001b[1;34m(self, key, value)\u001b[0m\n\u001b[0;32m   3610\u001b[0m         \u001b[1;32melse\u001b[0m\u001b[1;33m:\u001b[0m\u001b[1;33m\u001b[0m\u001b[1;33m\u001b[0m\u001b[0m\n\u001b[0;32m   3611\u001b[0m             \u001b[1;31m# set column\u001b[0m\u001b[1;33m\u001b[0m\u001b[1;33m\u001b[0m\u001b[0m\n\u001b[1;32m-> 3612\u001b[1;33m             \u001b[0mself\u001b[0m\u001b[1;33m.\u001b[0m\u001b[0m_set_item\u001b[0m\u001b[1;33m(\u001b[0m\u001b[0mkey\u001b[0m\u001b[1;33m,\u001b[0m \u001b[0mvalue\u001b[0m\u001b[1;33m)\u001b[0m\u001b[1;33m\u001b[0m\u001b[1;33m\u001b[0m\u001b[0m\n\u001b[0m\u001b[0;32m   3613\u001b[0m \u001b[1;33m\u001b[0m\u001b[0m\n\u001b[0;32m   3614\u001b[0m     \u001b[1;32mdef\u001b[0m \u001b[0m_setitem_slice\u001b[0m\u001b[1;33m(\u001b[0m\u001b[0mself\u001b[0m\u001b[1;33m,\u001b[0m \u001b[0mkey\u001b[0m\u001b[1;33m:\u001b[0m \u001b[0mslice\u001b[0m\u001b[1;33m,\u001b[0m \u001b[0mvalue\u001b[0m\u001b[1;33m)\u001b[0m\u001b[1;33m:\u001b[0m\u001b[1;33m\u001b[0m\u001b[1;33m\u001b[0m\u001b[0m\n",
      "\u001b[1;32m~\\AppData\\Local\\Programs\\Python\\Python39\\lib\\site-packages\\pandas\\core\\frame.py\u001b[0m in \u001b[0;36m_set_item\u001b[1;34m(self, key, value)\u001b[0m\n\u001b[0;32m   3782\u001b[0m         \u001b[0mensure\u001b[0m \u001b[0mhomogeneity\u001b[0m\u001b[1;33m.\u001b[0m\u001b[1;33m\u001b[0m\u001b[1;33m\u001b[0m\u001b[0m\n\u001b[0;32m   3783\u001b[0m         \"\"\"\n\u001b[1;32m-> 3784\u001b[1;33m         \u001b[0mvalue\u001b[0m \u001b[1;33m=\u001b[0m \u001b[0mself\u001b[0m\u001b[1;33m.\u001b[0m\u001b[0m_sanitize_column\u001b[0m\u001b[1;33m(\u001b[0m\u001b[0mvalue\u001b[0m\u001b[1;33m)\u001b[0m\u001b[1;33m\u001b[0m\u001b[1;33m\u001b[0m\u001b[0m\n\u001b[0m\u001b[0;32m   3785\u001b[0m \u001b[1;33m\u001b[0m\u001b[0m\n\u001b[0;32m   3786\u001b[0m         if (\n",
      "\u001b[1;32m~\\AppData\\Local\\Programs\\Python\\Python39\\lib\\site-packages\\pandas\\core\\frame.py\u001b[0m in \u001b[0;36m_sanitize_column\u001b[1;34m(self, value)\u001b[0m\n\u001b[0;32m   4507\u001b[0m \u001b[1;33m\u001b[0m\u001b[0m\n\u001b[0;32m   4508\u001b[0m         \u001b[1;32mif\u001b[0m \u001b[0mis_list_like\u001b[0m\u001b[1;33m(\u001b[0m\u001b[0mvalue\u001b[0m\u001b[1;33m)\u001b[0m\u001b[1;33m:\u001b[0m\u001b[1;33m\u001b[0m\u001b[1;33m\u001b[0m\u001b[0m\n\u001b[1;32m-> 4509\u001b[1;33m             \u001b[0mcom\u001b[0m\u001b[1;33m.\u001b[0m\u001b[0mrequire_length_match\u001b[0m\u001b[1;33m(\u001b[0m\u001b[0mvalue\u001b[0m\u001b[1;33m,\u001b[0m \u001b[0mself\u001b[0m\u001b[1;33m.\u001b[0m\u001b[0mindex\u001b[0m\u001b[1;33m)\u001b[0m\u001b[1;33m\u001b[0m\u001b[1;33m\u001b[0m\u001b[0m\n\u001b[0m\u001b[0;32m   4510\u001b[0m         \u001b[1;32mreturn\u001b[0m \u001b[0msanitize_array\u001b[0m\u001b[1;33m(\u001b[0m\u001b[0mvalue\u001b[0m\u001b[1;33m,\u001b[0m \u001b[0mself\u001b[0m\u001b[1;33m.\u001b[0m\u001b[0mindex\u001b[0m\u001b[1;33m,\u001b[0m \u001b[0mcopy\u001b[0m\u001b[1;33m=\u001b[0m\u001b[1;32mTrue\u001b[0m\u001b[1;33m,\u001b[0m \u001b[0mallow_2d\u001b[0m\u001b[1;33m=\u001b[0m\u001b[1;32mTrue\u001b[0m\u001b[1;33m)\u001b[0m\u001b[1;33m\u001b[0m\u001b[1;33m\u001b[0m\u001b[0m\n\u001b[0;32m   4511\u001b[0m \u001b[1;33m\u001b[0m\u001b[0m\n",
      "\u001b[1;32m~\\AppData\\Local\\Programs\\Python\\Python39\\lib\\site-packages\\pandas\\core\\common.py\u001b[0m in \u001b[0;36mrequire_length_match\u001b[1;34m(data, index)\u001b[0m\n\u001b[0;32m    529\u001b[0m     \"\"\"\n\u001b[0;32m    530\u001b[0m     \u001b[1;32mif\u001b[0m \u001b[0mlen\u001b[0m\u001b[1;33m(\u001b[0m\u001b[0mdata\u001b[0m\u001b[1;33m)\u001b[0m \u001b[1;33m!=\u001b[0m \u001b[0mlen\u001b[0m\u001b[1;33m(\u001b[0m\u001b[0mindex\u001b[0m\u001b[1;33m)\u001b[0m\u001b[1;33m:\u001b[0m\u001b[1;33m\u001b[0m\u001b[1;33m\u001b[0m\u001b[0m\n\u001b[1;32m--> 531\u001b[1;33m         raise ValueError(\n\u001b[0m\u001b[0;32m    532\u001b[0m             \u001b[1;34m\"Length of values \"\u001b[0m\u001b[1;33m\u001b[0m\u001b[1;33m\u001b[0m\u001b[0m\n\u001b[0;32m    533\u001b[0m             \u001b[1;34mf\"({len(data)}) \"\u001b[0m\u001b[1;33m\u001b[0m\u001b[1;33m\u001b[0m\u001b[0m\n",
      "\u001b[1;31mValueError\u001b[0m: Length of values (12) does not match length of index (9)"
     ]
    }
   ],
   "source": [
    "test[\"Trend\"] = y_test\n",
    "# print(len(y_test))\n",
    "test[\"Predection\"] = y_test * np.array(train.iloc[0:len(y_test)][\"S.I\"]).reshape(-1, 1)"
   ]
  },
  {
   "cell_type": "code",
   "execution_count": 320,
   "id": "9b9e2bd0",
   "metadata": {},
   "outputs": [
    {
     "data": {
      "text/plain": [
       "array([[ 4629.4431421 ],\n",
       "       [ 4236.08669629],\n",
       "       [ 4977.41930513],\n",
       "       [ 5164.31888893],\n",
       "       [ 5509.03734913],\n",
       "       [ 5595.76851512],\n",
       "       [ 4856.91479572],\n",
       "       [ 2413.56518341],\n",
       "       [ 6219.15679001],\n",
       "       [ 8041.56417736],\n",
       "       [11941.63708142],\n",
       "       [15079.94262169]])"
      ]
     },
     "execution_count": 320,
     "metadata": {},
     "output_type": "execute_result"
    }
   ],
   "source": []
  },
  {
   "cell_type": "markdown",
   "id": "a9f1fbc3",
   "metadata": {},
   "source": [
    "# Plot"
   ]
  },
  {
   "cell_type": "code",
   "execution_count": 282,
   "id": "1136ec97",
   "metadata": {},
   "outputs": [
    {
     "data": {
      "image/png": "[encoded data removed]",
      "text/plain": [
       "<Figure size 432x288 with 1 Axes>"
      ]
     },
     "metadata": {
      "needs_background": "light"
     },
     "output_type": "display_data"
    }
   ],
   "source": [
    "plt.title(\"Actual vs Predection\")\n",
    "plt.plot(test[\"Trend\"], color = \"black\", label = \"Regression Line\")\n",
    "plt.plot(test[\"Sales\"], color = \"blue\", label = \"Actual Line\")\n",
    "plt.plot(test[\"Predection\"], color = \"red\", label = \"Predection Line\")\n",
    "plt.legend()\n",
    "plt.show()"
   ]
  },
  {
   "cell_type": "code",
   "execution_count": 283,
   "id": "3a4894e4",
   "metadata": {},
   "outputs": [],
   "source": [
    "from sklearn.metrics import mean_absolute_percentage_error"
   ]
  },
  {
   "cell_type": "code",
   "execution_count": 284,
   "id": "22f1853a",
   "metadata": {},
   "outputs": [
    {
     "data": {
      "text/plain": [
       "0.1735700683029739"
      ]
     },
     "execution_count": 284,
     "metadata": {},
     "output_type": "execute_result"
    }
   ],
   "source": [
    "mean_absolute_percentage_error(test[\"Sales\"], test[\"Predection\"])"
   ]
  },
  {
   "cell_type": "code",
   "execution_count": null,
   "id": "53b4a662",
   "metadata": {},
   "outputs": [],
   "source": []
  },
  {
   "cell_type": "code",
   "execution_count": null,
   "id": "33738dbb",
   "metadata": {},
   "outputs": [],
   "source": []
  }
 ],
 "metadata": {
  "kernelspec": {
   "display_name": "Python 3 (ipykernel)",
   "language": "python",
   "name": "python3"
  },
  "language_info": {
   "codemirror_mode": {
    "name": "ipython",
    "version": 3
   },
   "file_extension": ".py",
   "mimetype": "text/x-python",
   "name": "python",
   "nbconvert_exporter": "python",
   "pygments_lexer": "ipython3",
   "version": "3.9.7"
  }
 },
 "nbformat": 4,
 "nbformat_minor": 5
}
