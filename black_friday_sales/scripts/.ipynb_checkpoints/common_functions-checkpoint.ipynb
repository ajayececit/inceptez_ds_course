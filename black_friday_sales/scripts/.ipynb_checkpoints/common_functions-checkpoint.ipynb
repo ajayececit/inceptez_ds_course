{
 "cells": [
  {
   "cell_type": "code",
   "execution_count": 1,
   "id": "0549207c",
   "metadata": {},
   "outputs": [],
   "source": [
    "import pandas as pd\n",
    "import numpy as np\n",
    "\n",
    "import os"
   ]
  },
  {
   "cell_type": "code",
   "execution_count": null,
   "id": "7d828928",
   "metadata": {},
   "outputs": [],
   "source": [
    "def get_data(path):\n",
    "    if not path:\n",
    "        return \"\"\n",
    "    df = \"\"\n",
    "    filename, file_extension = os.path.splitext(path)\n",
    "    if file_extension == \".json\":\n",
    "        df = pd.read_json(path)\n",
    "    elif file_extension == \".csv\":\n",
    "        df = pd.read_csv(path)\n",
    "    \n",
    "    return df"
   ]
  }
 ],
 "metadata": {
  "kernelspec": {
   "display_name": "Python 3 (ipykernel)",
   "language": "python",
   "name": "python3"
  },
  "language_info": {
   "codemirror_mode": {
    "name": "ipython",
    "version": 3
   },
   "file_extension": ".py",
   "mimetype": "text/x-python",
   "name": "python",
   "nbconvert_exporter": "python",
   "pygments_lexer": "ipython3",
   "version": "3.9.7"
  }
 },
 "nbformat": 4,
 "nbformat_minor": 5
}
